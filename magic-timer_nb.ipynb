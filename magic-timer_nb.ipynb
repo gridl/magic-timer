{
 "cells": [
  {
   "cell_type": "markdown",
   "metadata": {},
   "source": [
    "# Magic Timer"
   ]
  },
  {
   "cell_type": "code",
   "execution_count": 16,
   "metadata": {},
   "outputs": [],
   "source": [
    "from magic_timer import MagicTimer, magic_timer, format_output\n",
    "import time"
   ]
  },
  {
   "cell_type": "markdown",
   "metadata": {},
   "source": [
    "#### Use via decorator:\n",
    "\n",
    "Decorate a function with `@magic_timer` to print the function's execution time, when the function is called.\n"
   ]
  },
  {
   "cell_type": "code",
   "execution_count": 17,
   "metadata": {},
   "outputs": [],
   "source": [
    "\n",
    "@magic_timer\n",
    "def some_slow_function():\n",
    "    time.sleep(2.75)\n",
    "    "
   ]
  },
  {
   "cell_type": "code",
   "execution_count": 18,
   "metadata": {},
   "outputs": [
    {
     "name": "stdout",
     "output_type": "stream",
     "text": [
      "'some_slow_function' - 2.8 seconds\n"
     ]
    }
   ],
   "source": [
    "some_slow_function()"
   ]
  },
  {
   "cell_type": "markdown",
   "metadata": {},
   "source": [
    "#### Use via MagicTimer object:\n"
   ]
  },
  {
   "cell_type": "code",
   "execution_count": 19,
   "metadata": {},
   "outputs": [],
   "source": [
    "\n",
    "def some_slow_function():\n",
    "    time.sleep(90/1000)\n",
    "    "
   ]
  },
  {
   "cell_type": "code",
   "execution_count": 20,
   "metadata": {},
   "outputs": [
    {
     "name": "stdout",
     "output_type": "stream",
     "text": [
      "95 milliseconds\n"
     ]
    }
   ],
   "source": [
    "timer = MagicTimer()\n",
    "\n",
    "some_slow_function()\n",
    "\n",
    "print(timer)"
   ]
  },
  {
   "cell_type": "markdown",
   "metadata": {},
   "source": [
    "##### Format time in seconds into an appropriate unit, rounded to two sig figs:\n"
   ]
  },
  {
   "cell_type": "code",
   "execution_count": 22,
   "metadata": {},
   "outputs": [
    {
     "name": "stdout",
     "output_type": "stream",
     "text": [
      "370 days\n",
      "2.0 days\n",
      "4.2 hours\n",
      "3.2 minutes\n",
      "46 seconds\n",
      "340 milliseconds\n",
      "85 microseconds\n",
      "t < 0.05 microseconds\n"
     ]
    }
   ],
   "source": [
    "print(format_output(365*24*60*60))\n",
    "print(format_output(2*24*60*60))\n",
    "print(format_output(4.2*60*60))\n",
    "print(format_output(3.11*60))\n",
    "print(format_output(45.38))\n",
    "print(format_output(.334))\n",
    "print(format_output(.00008422))\n",
    "print(format_output(.0))"
   ]
  }
 ],
 "metadata": {
  "kernelspec": {
   "display_name": "Python 3",
   "language": "python",
   "name": "python3"
  },
  "language_info": {
   "codemirror_mode": {
    "name": "ipython",
    "version": 3
   },
   "file_extension": ".py",
   "mimetype": "text/x-python",
   "name": "python",
   "nbconvert_exporter": "python",
   "pygments_lexer": "ipython3",
   "version": "3.7.3"
  }
 },
 "nbformat": 4,
 "nbformat_minor": 2
}
